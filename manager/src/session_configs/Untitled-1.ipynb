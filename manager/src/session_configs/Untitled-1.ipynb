{
 "metadata": {
  "language_info": {
   "codemirror_mode": {
    "name": "ipython",
    "version": 3
   },
   "file_extension": ".py",
   "mimetype": "text/x-python",
   "name": "python",
   "nbconvert_exporter": "python",
   "pygments_lexer": "ipython3",
   "version": "3.8.5"
  },
  "orig_nbformat": 2,
  "kernelspec": {
   "name": "python385jvsc74a57bd07b4b4feff2f24a0f0a34464dbe537a36fda679851528fb8735cb41fa49dffb2d",
   "display_name": "Python 3.8.5 64-bit ('base': conda)"
  }
 },
 "nbformat": 4,
 "nbformat_minor": 2,
 "cells": [
  {
   "cell_type": "code",
   "execution_count": 1,
   "metadata": {},
   "outputs": [],
   "source": [
    "from itertools import groupby\n",
    "\n",
    "f = open(\"term.txt\")\n",
    "lines = f.readlines()\n",
    "for i in range(len(lines)):\n",
    "    lines[i]=lines[i].replace('\"','').replace(',','').strip()\n",
    "f.close()\n",
    "\n",
    "a,b,c=[list(g) for k,g in groupby(lines,lambda x:x=='') if not k]\n",
    "\n",
    "f = open(\"states.txt\")\n",
    "lines = f.readlines()\n",
    "for i in range(len(lines)):\n",
    "    lines[i]=lines[i].replace('\"','').replace(',','').strip()\n",
    "f.close()\n",
    "\n",
    "d,e=[list(g) for k,g in groupby(lines,lambda x:x=='') if not k]\n",
    "\n"
   ]
  },
  {
   "cell_type": "code",
   "execution_count": 1,
   "metadata": {},
   "outputs": [
    {
     "output_type": "stream",
     "name": "stdout",
     "text": [
      "{'session_id': 't_p10', 'max_results': 10, 'interval': 0, 'date_intervals': [''], 'agents': {'pro_agent': {'id': 'pro_agent', 'username': 'levehe9235@tan9595.com', 'password': 'cy02110002', 'platform': 'twitter', 'ip': 'localhost', 'port': '30001', 'cookie': 0, 'profiles': ['washingtonpost'], 'queries': []}, 'neutral_agent': {'id': 'neutral_agent', 'username': 'lipok16679@lovomon.com', 'password': 'cy02110002', 'platform': 'twitter', 'ip': 'localhost', 'port': '30001', 'cookie': 0, 'profiles': [], 'queries': []}}}\n"
     ]
    }
   ],
   "source": [
    "import json\n",
    "with open(\"./twitter/twitter-carry.json\",'r+',encoding='utf-8') as load_f:\n",
    "    load_dict = json.load(load_f)   \n",
    "    print(load_dict)"
   ]
  },
  {
   "cell_type": "code",
   "execution_count": 2,
   "metadata": {},
   "outputs": [],
   "source": [
    "import copy \n",
    "\n",
    "js=copy.deepcopy(load_dict)\n",
    "js['agents']['pro_agent']['queries']=['Alabama', 'joe biden']\n",
    "# print(js['agents'][i]['queries'])"
   ]
  },
  {
   "cell_type": "code",
   "execution_count": 3,
   "metadata": {},
   "outputs": [
    {
     "output_type": "execute_result",
     "data": {
      "text/plain": [
       "'{\"session_id\": \"t_p10\", \"max_results\": 10, \"interval\": 0, \"date_intervals\": [\"\"], \"agents\": {\"pro_agent\": {\"id\": \"pro_agent\", \"username\": \"levehe9235@tan9595.com\", \"password\": \"cy02110002\", \"platform\": \"twitter\", \"ip\": \"localhost\", \"port\": \"30001\", \"cookie\": 0, \"profiles\": [\"washingtonpost\"], \"queries\": [\"Alabama\", \"joe biden\"]}, \"neutral_agent\": {\"id\": \"neutral_agent\", \"username\": \"lipok16679@lovomon.com\", \"password\": \"cy02110002\", \"platform\": \"twitter\", \"ip\": \"localhost\", \"port\": \"30001\", \"cookie\": 0, \"profiles\": [], \"queries\": []}}}'"
      ]
     },
     "metadata": {},
     "execution_count": 3
    }
   ],
   "source": [
    "json.dumps(js)"
   ]
  },
  {
   "cell_type": "code",
   "execution_count": 4,
   "metadata": {},
   "outputs": [],
   "source": [
    "import itertools\n",
    "\n",
    "# list(itertools.product(d,b+c))\n",
    "\n",
    "# len(list(itertools.product(d+e,a)))\n",
    "\n",
    "['covid masks','diy mask','covid-19 prevention','free covid testing near me','vaccination of coronavirus','covid vaccine registration','covid map', 'covid cases','covid vaccine near me', 'covid deaths']\n"
   ]
  },
  {
   "cell_type": "code",
   "execution_count": 5,
   "metadata": {},
   "outputs": [],
   "source": [
    "li=[['brasil', 'covid masks'],\n",
    " ['mexico', 'diy mask'],\n",
    " ['ontario', 'covid-19 prevention'],\n",
    " ['argentina', 'free covid testing near me'],\n",
    " ['canada', 'vaccination of coronavirus'],\n",
    " ['italia', 'covid vaccine registration'],\n",
    " ['USA', 'covid map'],\n",
    " ['france', 'covid cases'],\n",
    " ['uk', 'covid vaccine near me'],\n",
    " ['israel', 'covid deaths'],\n",
    " ['India', 'coronavirus vaccination tracker'],\n",
    " ['Australia', 'covid update'],\n",
    " ['Pennsylvania', 'coronavirus vaccination schedule'],\n",
    " ['USA', 'coronavirus tips'],\n",
    " ['Georgia', 'covid symptoms'],\n",
    " ['Tennessee', 'book a coronavirus vaccination'],\n",
    " ['Arizona', 'side effects of covid vaccine'],\n",
    " ['North Carolina', 'grammy awards'],\n",
    " ['Ohio', \"ncaa men's division i basketball tournament\"],\n",
    " ['victoria', 'australian open'],\n",
    " ['Indiana', 'sanremo music festival'],\n",
    " ['Illinois', 'fox news'],\n",
    " ['New York', 'joe biden'],\n",
    " ['New mexico', 'election day'],\n",
    " ['New jersey', 'presidential election 2020'],\n",
    " ['Florida', 'us election 2020 results live'],\n",
    " ['Texas', 'election results'],\n",
    " ['California', 'trump']]"
   ]
  },
  {
   "cell_type": "code",
   "execution_count": 6,
   "metadata": {},
   "outputs": [],
   "source": [
    "o=1\n",
    "for i in li:\n",
    "\n",
    "    js=copy.deepcopy(load_dict)\n",
    "    js['agents']['pro_agent']['queries']=i\n",
    "    b=copy.deepcopy(i)\n",
    "    b[0]=\"$carry-over$\"\n",
    "    js['agents']['neutral_agent']['queries']=b\n",
    "    fi=json.dumps(js)\n",
    "    with open(\"./twitter/twitter-carry\"+str(o)+\".json\",\"w\") as f:\n",
    "        json.dump(js,f)\n",
    "    o=o+1\n"
   ]
  },
  {
   "cell_type": "code",
   "execution_count": 7,
   "metadata": {},
   "outputs": [],
   "source": [
    "for i in range(1,29):\n",
    "    path=\"./twitter/twitter-carry\"+str(i)+\".json\"\n",
    "    with open(path,'r+') as load_f:\n",
    "        load_dict = json.load(load_f)   \n",
    "    for j in range(1,21):\n",
    "        js=copy.deepcopy(load_dict)\n",
    "        js['interval']=j*60*1000\n",
    "        with open(\"./twitter/twitter-carry\"+str(i)+'-'+str(j)+\".json\",\"w\") as f:\n",
    "            json.dump(js,f)"
   ]
  },
  {
   "cell_type": "code",
   "execution_count": 3,
   "metadata": {},
   "outputs": [
    {
     "output_type": "execute_result",
     "data": {
      "text/plain": [
       "['tumblr-carry1',\n",
       " 'tumblr-carry2',\n",
       " 'tumblr-carry3',\n",
       " 'tumblr-carry4',\n",
       " 'tumblr-carry5',\n",
       " 'tumblr-carry6',\n",
       " 'tumblr-carry7',\n",
       " 'tumblr-carry8',\n",
       " 'tumblr-carry9',\n",
       " 'tumblr-carry10',\n",
       " 'tumblr-carry11',\n",
       " 'tumblr-carry12',\n",
       " 'tumblr-carry13',\n",
       " 'tumblr-carry14',\n",
       " 'tumblr-carry15',\n",
       " 'tumblr-carry16',\n",
       " 'tumblr-carry17',\n",
       " 'tumblr-carry18',\n",
       " 'tumblr-carry19',\n",
       " 'tumblr-carry20',\n",
       " 'tumblr-carry21',\n",
       " 'tumblr-carry22',\n",
       " 'tumblr-carry23',\n",
       " 'tumblr-carry24',\n",
       " 'tumblr-carry25',\n",
       " 'tumblr-carry26',\n",
       " 'tumblr-carry27',\n",
       " 'tumblr-carry28']"
      ]
     },
     "metadata": {},
     "execution_count": 3
    }
   ],
   "source": [
    "l=[]\n",
    "for i in range(1,29):\n",
    "    # for j in range(1,21):\n",
    "    path=\"tumblr-carry\"+str(i)\n",
    "    l.append(path)\n",
    "l"
   ]
  },
  {
   "cell_type": "code",
   "execution_count": 11,
   "metadata": {},
   "outputs": [
    {
     "output_type": "execute_result",
     "data": {
      "text/plain": [
       "{0: array([1.        , 0.19095932]), 1: array([-1.        , -0.19095932])}"
      ]
     },
     "metadata": {},
     "execution_count": 11
    }
   ],
   "source": [
    "G=nx.path_graph(2)\n",
    "nx.spring_layout(G)"
   ]
  },
  {
   "cell_type": "code",
   "execution_count": 25,
   "metadata": {},
   "outputs": [],
   "source": [
    "# # import matplotlib.pyplot as plt\n",
    "# # 生成一个G(n,p)图，表示n个点，两个点之间是否连接互相独立，并且概率为p\n",
    "# # G = nx.fast_gnp_random_graph(10,0.5)\n",
    "# G=nx.path_graph(4)\n",
    "# nx.draw(G)\n",
    "# # plt.show()"
   ]
  },
  {
   "cell_type": "code",
   "execution_count": null,
   "metadata": {},
   "outputs": [],
   "source": []
  }
 ]
}